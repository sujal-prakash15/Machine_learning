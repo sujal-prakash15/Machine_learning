{
  "nbformat": 4,
  "nbformat_minor": 0,
  "metadata": {
    "colab": {
      "provenance": [],
      "include_colab_link": true
    },
    "kernelspec": {
      "name": "python3",
      "display_name": "Python 3"
    }
  },
  "cells": [
    {
      "cell_type": "markdown",
      "metadata": {
        "id": "view-in-github",
        "colab_type": "text"
      },
      "source": [
        "<a href=\"https://colab.research.google.com/github/sujal-prakash15/Machine_learning/blob/master/upper_confidence_bound.ipynb\" target=\"_parent\"><img src=\"https://colab.research.google.com/assets/colab-badge.svg\" alt=\"Open In Colab\"/></a>"
      ]
    },
    {
      "cell_type": "markdown",
      "metadata": {
        "id": "QJdrJJQUv3-k"
      },
      "source": [
        "# Upper Confidence Bound (UCB)"
      ]
    },
    {
      "cell_type": "markdown",
      "metadata": {
        "id": "2XCjepjJwEv-"
      },
      "source": [
        "## Importing the libraries"
      ]
    },
    {
      "cell_type": "code",
      "metadata": {
        "id": "l_mBkG3YwNTt"
      },
      "source": [
        "import numpy as np\n",
        "import matplotlib.pyplot as plt\n",
        "import pandas as pd"
      ],
      "execution_count": 1,
      "outputs": []
    },
    {
      "cell_type": "markdown",
      "metadata": {
        "id": "npqlXjaNwYTv"
      },
      "source": [
        "## Importing the dataset"
      ]
    },
    {
      "cell_type": "code",
      "source": [
        "from google.colab import drive\n",
        "drive.mount('/content/drive')"
      ],
      "metadata": {
        "colab": {
          "base_uri": "https://localhost:8080/"
        },
        "id": "amEyVyuJYvfk",
        "outputId": "10203577-0194-46c9-f4ec-1d993832b670"
      },
      "execution_count": 2,
      "outputs": [
        {
          "output_type": "stream",
          "name": "stdout",
          "text": [
            "Mounted at /content/drive\n"
          ]
        }
      ]
    },
    {
      "cell_type": "code",
      "metadata": {
        "id": "HMJfUVLVwcFc",
        "colab": {
          "base_uri": "https://localhost:8080/"
        },
        "outputId": "39e962f9-dd35-4b31-e783-8e7ec4c8198f"
      },
      "source": [
        "df= pd.read_csv('/content/drive/MyDrive/UCB/Ads_CTR_Optimisation.csv')\n",
        "print(df)"
      ],
      "execution_count": 3,
      "outputs": [
        {
          "output_type": "stream",
          "name": "stdout",
          "text": [
            "      Ad 1  Ad 2  Ad 3  Ad 4  Ad 5  Ad 6  Ad 7  Ad 8  Ad 9  Ad 10\n",
            "0        1     0     0     0     1     0     0     0     1      0\n",
            "1        0     0     0     0     0     0     0     0     1      0\n",
            "2        0     0     0     0     0     0     0     0     0      0\n",
            "3        0     1     0     0     0     0     0     1     0      0\n",
            "4        0     0     0     0     0     0     0     0     0      0\n",
            "...    ...   ...   ...   ...   ...   ...   ...   ...   ...    ...\n",
            "9995     0     0     1     0     0     0     0     1     0      0\n",
            "9996     0     0     0     0     0     0     0     0     0      0\n",
            "9997     0     0     0     0     0     0     0     0     0      0\n",
            "9998     1     0     0     0     0     0     0     1     0      0\n",
            "9999     0     1     0     0     0     0     0     0     0      0\n",
            "\n",
            "[10000 rows x 10 columns]\n"
          ]
        }
      ]
    },
    {
      "cell_type": "markdown",
      "metadata": {
        "id": "PaSbots_wfoB"
      },
      "source": [
        "## Implementing UCB"
      ]
    },
    {
      "cell_type": "code",
      "source": [
        "#implementation of UCB in three steps\n",
        "#after 10000 iteration try to check in what minimum no of iteration ucb was able to find out which was the best rewarding ad,eg:-5000\n",
        "import math\n",
        "# no_of_rounds=10000\n",
        "# no_of_rounds=5000\n",
        "no_of_rounds=1000\n",
        "#no_of_rounds=500 //was not able to find the best ad\n",
        "d=10\n",
        "add_selected=[]\n",
        "numbers_of_selections=[0]*d\n",
        "sum_of_rewards=[0]*d\n",
        "total_reward=0\n",
        "for n in range(0,no_of_rounds):\n",
        "  ad=0\n",
        "  max_upper_bound=0\n",
        "  for i in range(0,d):\n",
        "    if(numbers_of_selections[i]>0):\n",
        "      avg_reward=sum_of_rewards[i]/numbers_of_selections[i]\n",
        "      delta=math.sqrt(1.5*(math.log(n+1)/numbers_of_selections[i]))\n",
        "      ucb=delta+avg_reward\n",
        "    else:\n",
        "      ucb=1e400\n",
        "    if(max_upper_bound<ucb):\n",
        "      max_upper_bound=ucb\n",
        "      ad=i\n",
        "  add_selected.append(ad)\n",
        "  numbers_of_selections[ad]+=1\n",
        "  sum_of_rewards[ad]+=df.values[n][ad]\n",
        "  total_reward+=df.values[n][ad]"
      ],
      "metadata": {
        "id": "57H0uWFLaMsz"
      },
      "execution_count": 21,
      "outputs": []
    },
    {
      "cell_type": "code",
      "source": [
        "    # # N = number of users we're showing an ad to\n",
        "    # N = 5000\n",
        "     \n",
        "    # # d = number of ads we are testing\n",
        "    # d = 10\n",
        "     \n",
        "    # # list of ads we've chosen to show to each users (length = N)\n",
        "    # ads_selected = []\n",
        "     \n",
        "    # # list tracking the count of times each ad has been shown to users (length = d)\n",
        "    # number_of_selections = [0]*d\n",
        "     \n",
        "    # # list tracking the count of times each ad has been clicked by a user\n",
        "    # sum_of_rewards = [0]*d\n",
        "     \n",
        "    # # count of the total times users have clicked an ad\n",
        "    # total_reward = 0 \n",
        "     \n",
        "    # # n is an int representing each user\n",
        "    # for n in range(0,N):\n",
        "    #   # ad = the number of the ad (column number)\n",
        "    #   ad = 0 \n",
        "    #   # max_upper_bound is the highest upper bound among our 10 ads\n",
        "    #   max_upper_bound = 0 \n",
        "     \n",
        "    #   # i is an int representing each ad\n",
        "    #   for i in range(0,d):\n",
        "    #     # if the ad has been shown to a user at least once:\n",
        "    #     if number_of_selections[i] >0:\n",
        "    #       # average_reward is the (number of times ad is clicked) / (number of times ad is shown)\n",
        "    #       average_reward = sum_of_rewards[i] / number_of_selections[i]\n",
        "    #       # delta_i is the confidence interval formula we saw in the video\n",
        "    #       delta_i = math.sqrt(3/2*math.log(n+1)/number_of_selections[i])\n",
        "    #       # this is the upper confidence bound, our average clickrate of the ad + the confidence interval of the ad\n",
        "    #       upper_bound = average_reward + delta_i\n",
        "    #     else:\n",
        "    #       # ad hasn't been shown yet so we set a higher upper_bound to force it to be selected\n",
        "    #       upper_bound = 1e400\n",
        "     \n",
        "    #     # as loop through our 10 ads, we use this max_upper_bound to track which of our 10 ads has the highest upper_bound\n",
        "    #     if (upper_bound>max_upper_bound):\n",
        "    #       max_upper_bound = upper_bound\n",
        "    #       ad=i # ad i is the ad we will show the user\n",
        "      \n",
        "    #   # add i to our list tracking which ads we've shown\n",
        "    #   ads_selected.append(ad) \n",
        "    #   # add 1 to our count of times we've shown ad i\n",
        "    #   number_of_selections[ad] += 1\n",
        "    #   # look up in our dataset and check whether user n clicks ad i \n",
        "    #   # 1 means they clicked the ad, 0 means they didn't click the ad\n",
        "    #   reward = dataset.values[n,ad] \n",
        "    #   # add that reward to our count of times ad i has been clicked\n",
        "    #   sum_of_rewards[ad] += reward\n",
        "    #   # add that reward to our count of times *ANY* ad has been clicked\n",
        "    #   total_reward += reward"
      ],
      "metadata": {
        "id": "-KJF-xFSmo0E"
      },
      "execution_count": null,
      "outputs": []
    },
    {
      "cell_type": "code",
      "source": [
        "print(add_selected)"
      ],
      "metadata": {
        "colab": {
          "base_uri": "https://localhost:8080/"
        },
        "id": "t8LA73s3lHMD",
        "outputId": "32b33af8-745d-4083-9820-a0f795b988f0"
      },
      "execution_count": 16,
      "outputs": [
        {
          "output_type": "stream",
          "name": "stdout",
          "text": [
            "[0, 1, 2, 3, 4, 5, 6, 7, 8, 9, 0, 1, 2, 3, 4, 5, 6, 7, 8, 9, 0, 0, 1, 2, 3, 4, 5, 6, 7, 8, 8, 9, 0, 8, 1, 2, 3, 4, 5, 6, 6, 7, 7, 7, 9, 7, 0, 6, 8, 1, 2, 3, 4, 4, 4, 4, 4, 5, 9, 7, 0, 0, 6, 8, 4, 0, 7, 1, 1, 2, 3, 5, 9, 4, 1, 6, 8, 0, 7, 2, 3, 5, 9, 4, 1, 6, 8, 0, 7, 7, 7, 7, 7, 7, 4, 2, 3, 5, 9, 1, 6, 8, 0, 0, 7, 0, 4, 1, 6, 8, 2, 3, 5, 9, 7, 0, 4, 4, 4, 7, 7, 7, 7, 1, 6, 8, 2, 3, 5, 9, 0, 7, 7, 4, 7, 7, 7, 1, 6, 8, 0, 4, 4, 2, 3, 5, 9, 4, 7, 0, 7, 1, 1, 1, 6, 6, 6, 6, 6, 8, 4, 2, 3, 5, 9, 7, 7, 7, 0, 6, 4, 1, 1, 1, 8, 7, 2, 3, 5, 9, 4, 0, 1, 1, 1, 6, 7, 8, 4, 1, 2, 3, 5, 9, 0, 6, 7, 8, 4, 7, 1, 0, 6, 2, 3, 5, 9, 7, 7, 7, 7, 4, 4, 4, 4, 4, 7, 8, 1, 0, 6, 6, 6, 7, 4, 2, 3, 5, 9, 1, 6, 8, 7, 0, 4, 4, 4, 4, 4, 2, 3, 5, 9, 1, 6, 7, 4, 8, 0, 7, 4, 4, 4, 1, 6, 2, 3, 5, 9, 0, 0, 0, 7, 8, 4, 0, 0, 0, 1, 6, 7, 4, 2, 3, 5, 9, 0, 8, 7, 1, 6, 4, 0, 7, 7, 7, 7, 7, 2, 3, 5, 9, 8, 4, 1, 6, 6, 6, 7, 7, 7, 0, 6, 7, 4, 1, 1, 1, 2, 2, 2, 3, 5, 9, 2, 8, 7, 0, 1, 6, 4, 7, 2, 8, 3, 5, 9, 9, 9, 9, 4, 0, 1, 6, 7, 4, 7, 0, 1, 6, 2, 8, 9, 3, 5, 4, 7, 0, 0, 0, 1, 6, 2, 8, 9, 4, 0, 3, 5, 7, 1, 6, 7, 4, 0, 2, 8, 9, 3, 5, 7, 4, 4, 4, 4, 4, 1, 6, 4, 0, 7, 2, 8, 9, 4, 3, 5, 1, 6, 6, 6, 0, 6, 7, 4, 4, 4, 2, 8, 8, 8, 8, 9, 4, 1, 7, 0, 6, 3, 5, 7, 7, 7, 4, 8, 1, 2, 9, 7, 0, 0, 0, 0, 0, 0, 0, 0, 0, 6, 3, 5, 4, 4, 4, 7, 4, 4, 4, 0, 1, 1, 1, 8, 8, 8, 8, 1, 6, 4, 2, 9, 7, 3, 3, 3, 3, 5, 0, 4, 4, 4, 8, 1, 6, 4, 7, 2, 3, 9, 0, 5, 4, 7, 1, 6, 8, 0, 2, 3, 9, 4, 7, 7, 7, 7, 1, 6, 8, 5, 0, 4, 7, 2, 3, 9, 1, 6, 4, 0, 8, 7, 5, 4, 1, 6, 6, 6, 6, 2, 3, 3, 3, 3, 9, 7, 0, 8, 4, 4, 4, 4, 4, 4, 3, 5, 7, 6, 1, 1, 1, 1, 0, 4, 2, 9, 8, 8, 8, 8, 7, 4, 4, 4, 4, 4, 4, 4, 4, 4, 4, 4, 4, 4, 4, 4, 4, 3, 1, 6, 4, 4, 4, 0, 5, 4, 4, 4, 8, 7, 7, 7, 2, 9, 4, 7, 0, 1, 6, 3, 4, 5, 5, 5, 5, 7, 8, 2, 5, 9, 4, 4, 4, 4, 4, 4, 4, 4, 0, 0, 0, 0, 4, 4, 4, 4, 4, 4, 4, 4, 1, 6, 4, 7, 7, 7, 3, 7, 8, 4, 0, 1, 6, 2, 5, 9, 9, 9, 9, 7, 4, 4, 4, 4, 4, 4, 4, 4, 4, 4, 4, 4, 4, 4, 4, 4, 3, 9, 4, 8, 0, 0, 0, 0, 0, 0, 0, 7, 1, 6, 6, 6, 6, 4, 4, 4, 4, 4, 4, 2, 5, 7, 7, 7, 7, 7, 7, 7, 7, 7, 7, 7, 7, 3, 9, 4, 0, 8, 6, 1, 4, 4, 4, 4, 4, 4, 4, 4, 4, 4, 4, 7, 7, 7, 2, 5, 7, 7, 7, 0, 0, 0, 0, 4, 7, 6, 3, 9, 8, 1, 1, 1, 1, 4, 7, 0, 4, 4, 4, 2, 5, 1, 6, 4, 4, 4, 4, 4, 4, 4, 4, 8, 7, 4, 3, 9, 0, 4, 7, 1, 6, 6, 6, 6, 2, 5, 4, 4, 4, 4, 4, 4, 4, 4, 8, 4, 0, 3, 3, 3, 3, 9, 7, 4, 6, 3, 1, 7, 4, 0, 2, 5, 8, 9, 4, 4, 4, 4, 4, 4, 6, 7, 1, 3, 4, 4, 4, 0, 4, 8, 7, 2, 5, 6, 6, 6, 6, 4, 9, 1, 0, 4, 3, 7, 6, 4, 8, 0, 2, 5, 7, 1, 9, 9, 9, 9, 4, 6, 3, 3, 3, 3, 9, 4, 4, 4, 7, 4, 0, 0, 0, 0, 3, 8, 1, 2, 5, 4, 7, 7, 7, 6, 7, 0, 9, 4, 3, 8, 1, 7, 7, 7, 7, 4, 6, 0, 0, 0, 0, 0, 0, 0, 0, 0, 0, 2, 5, 4, 9, 7, 0, 1, 4, 3, 8, 6, 7, 4, 0, 2, 5, 9, 1, 4, 4, 4, 4, 4, 4, 4, 4, 4, 4, 4, 4, 4, 4, 7, 6, 3, 8, 4, 0, 4, 7, 2, 5, 1, 4, 4, 4, 4, 4, 4, 4, 4, 4, 4, 4, 4, 4, 4, 4, 4, 4, 4, 4, 9, 6, 4, 4, 4, 4, 4, 4, 0, 3, 3, 3, 3, 8, 4, 4, 4, 4, 4, 4, 4, 4, 4, 4, 4, 4, 4, 4, 4, 4, 4, 4, 4, 4, 4, 4, 4, 4, 4, 7, 3, 4, 1, 6, 2, 5, 0, 9, 4, 4, 4, 7, 4, 8, 4, 3, 7, 0, 1, 6, 4, 2, 5, 9, 4, 7, 8, 8, 8, 8, 0, 3, 8, 4, 4, 4, 4, 4, 4, 4, 4, 4, 1, 6, 4, 7, 9, 0, 4, 2, 5, 7, 4, 3, 3, 3, 3, 8, 6, 1, 3, 4, 0, 7, 7, 7, 7, 4, 4, 4, 9, 9, 9, 9, 4, 9, 2, 5, 6, 1, 1, 1, 1, 8, 0, 4, 4, 4, 4, 4, 4, 7, 3, 4, 1, 4, 6, 7, 9, 0, 2, 5, 8, 4, 3, 1, 4, 4, 4, 7, 4, 6, 0, 0, 0, 0, 4, 4, 4, 4, 4, 4, 4, 4, 4, 4, 4, 4, 4, 4, 4, 4, 4, 9, 4, 8, 7, 2, 5, 1, 0, 0, 0, 0, 3, 3, 3, 3, 3, 3, 3, 3, 4, 4, 4, 4, 4, 4, 4, 4, 4, 4, 4, 4, 4, 4, 4, 4, 4, 4, 4, 4, 4, 4, 4, 4, 4, 4, 4, 4, 6, 4, 0, 3, 7, 4, 9, 8, 1, 4, 2, 5, 7, 6, 0, 4, 3, 4, 9, 9, 9, 9, 1, 7, 8, 9, 4, 0, 6, 2, 5, 4, 4, 4, 4, 4, 4, 4, 4, 4, 4, 4, 4, 3, 7, 4, 1, 0, 4, 8, 9, 6, 7, 4, 4, 4, 4, 4, 4, 4, 4, 4, 4, 4, 4, 4, 4, 4, 4, 4, 4, 4, 4, 2, 5, 4, 3, 0, 1, 4, 7, 8, 9, 6, 4, 4, 4, 4, 0, 4, 3, 7, 2, 5, 1, 4, 6, 6, 6, 6, 4, 8, 9, 0, 0, 0, 0, 7, 7, 7, 7, 7, 7, 7, 6, 4, 4, 4, 3, 4, 7, 7, 7, 7, 7, 7, 7, 0, 1, 4, 2, 5, 7, 4, 8, 9, 6, 0, 4, 3, 7, 1, 4, 4, 2, 5, 6, 6, 6, 6, 6, 6, 6, 6, 0, 7, 8, 9, 4, 3, 1, 4, 6, 7, 7, 7, 7, 0, 4, 4, 4, 4, 4, 4, 4, 7, 8, 9, 2, 5, 4, 3, 1, 6, 4, 0, 7, 4, 4, 8, 8, 8, 8, 8, 9, 3, 0, 6, 6, 6, 6, 7, 2, 5, 1, 4, 6, 4, 7, 4, 0, 8, 8, 8, 8, 8, 3, 9, 4, 4, 4, 4, 4, 4, 1, 4, 6, 2, 5, 7, 4, 0, 4, 8, 3, 7, 7, 7, 7, 1, 4, 6, 6, 6, 6, 9, 0, 6, 4, 7, 2, 5, 4, 3, 8, 8, 8, 8, 8, 4, 1, 7, 0, 9, 6, 4, 4, 4, 4, 4, 4, 4, 4, 7, 2, 5, 0, 4, 3, 8, 1, 6, 9, 4, 7, 4, 4, 4, 4, 4, 4, 4, 4, 4, 4, 4, 4, 4, 4, 4, 4, 4, 4, 4, 4, 4, 4, 4, 4, 4, 4, 4, 4, 4, 4, 4, 4, 4, 4, 4, 4, 4, 4, 4, 4, 4, 4, 4, 4, 4, 4, 4, 4, 4, 4, 4, 4, 4, 4, 4, 4, 4, 4, 4, 4, 4, 4, 4, 4, 4, 4, 4, 4, 4, 4, 4, 4, 4, 0, 4, 2, 5, 6, 3, 8, 8, 8, 8, 1, 8, 7, 4, 9, 4, 0, 0, 0, 0, 0, 0, 0, 0, 0, 0, 0, 4, 7, 0, 6, 4, 1, 8, 3, 2, 5, 4, 4, 4, 4, 4, 4, 4, 7, 9, 0, 4, 6, 4, 1, 8, 7, 7, 7, 7, 3, 4, 0, 0, 0, 0, 0, 0, 0, 0, 2, 5, 7, 4, 9, 6, 4, 0, 4, 4, 4, 4, 4, 4, 4, 4, 4, 4, 4, 4, 4, 4, 4, 4, 4, 4, 4, 4, 4, 4, 4, 4, 4, 4, 4, 4, 4, 4, 4, 4, 4, 4, 4, 1, 8, 4, 3, 7, 4, 6, 4, 2, 5, 9, 0, 7, 4, 1, 8, 4, 4, 4, 4, 4, 4, 4, 4, 4, 3, 4, 7, 7, 7, 7, 6, 4, 0, 4, 7, 7, 7, 7, 7, 7, 7, 7, 7, 7, 7, 7, 7, 7, 9, 2, 5, 7, 4, 1, 1, 1, 1, 1, 8, 3, 0, 4, 6, 4, 7, 7, 7, 7, 7, 7, 7, 7, 7, 7, 7, 4, 9, 1, 0, 0, 0, 0, 0, 0, 0, 0, 0, 0, 0, 8, 2, 5, 7, 4, 0, 3, 6, 4, 4, 4, 4, 4, 7, 0, 0, 0, 0, 0, 0, 0, 0, 4, 1, 9, 8, 6, 3, 4, 4, 4, 4, 7, 2, 5, 0, 4, 4, 7, 1, 6, 4, 8, 9, 0, 3, 4, 7, 4, 2, 5, 4, 0, 6, 1, 4, 7, 8, 9, 3, 3, 3, 3, 3, 3, 3, 3, 3, 4, 0, 4, 7, 7, 7, 7, 6, 2, 2, 2, 2, 2, 5, 4, 1, 3, 7, 2, 8, 4, 0, 9, 4, 4, 4, 4, 4, 4, 4, 4, 4, 4, 7, 4, 6, 1, 3, 4, 0, 5, 8, 7, 7, 7, 7, 7, 7, 7, 4, 7, 7, 7, 7, 7, 7, 7, 7, 7, 7, 7, 7, 7, 7, 2, 7, 9, 4, 4, 4, 4, 4, 4, 4, 6, 0, 4, 1, 3, 7, 4, 4, 4, 4, 8, 5, 4, 0, 2, 6, 7, 4, 9, 4, 1, 1, 1, 1, 1, 3, 7, 4, 0, 8, 4, 6, 5, 4, 7, 2, 9, 1, 0, 4, 3, 3, 3, 3, 3, 4, 4, 4, 4, 8, 7, 6, 4, 4, 4, 4, 4, 4, 4, 4, 4, 4, 0, 4, 1, 3, 7, 7, 7, 7, 7, 7, 7, 7, 7, 7, 7, 7, 7, 7, 7, 7, 7, 7, 7, 7, 7, 7, 7, 7, 7, 7, 7, 7, 5, 9, 2, 4, 4, 4, 4, 4, 4, 4, 4, 4, 4, 7, 7, 7, 7, 7, 7, 7, 7, 7, 7, 7, 7, 7, 7, 7, 7, 7, 7, 7, 7, 7, 7, 7, 7, 7, 7, 7, 7, 7, 7, 7, 7, 7, 7, 7, 7, 7, 7, 8, 6, 4, 0, 7, 4, 1, 3, 4, 7, 9, 5, 0, 2, 4, 6, 8, 4, 7, 4, 1, 3, 3, 3, 3, 3, 0, 7, 7, 7, 7, 4, 6, 9, 7, 4, 8, 5, 2, 4, 3, 0, 7, 4, 1, 4, 4, 4, 4, 4, 4, 4, 4, 4, 4, 4, 4, 4, 4, 4, 4, 4, 4, 4, 4, 4, 4, 4, 4, 4, 4, 4, 4, 4, 4, 4, 4, 4, 4, 4, 4, 4, 4, 4, 4, 4, 4, 4, 4, 4, 4, 4, 4, 4, 4, 4, 4, 4, 4, 4, 4, 4, 4, 4, 4, 4, 4, 4, 4, 4, 4, 4, 4, 4, 4, 4, 4, 4, 4, 4, 4, 4, 4, 4, 4, 4, 4, 4, 4, 4, 4, 4, 4, 4, 4, 4, 4, 4, 4, 4, 4, 4, 4, 4, 4, 4, 4, 4, 4, 4, 4, 4, 4, 4, 4, 4, 4, 4, 4, 4, 4, 4, 4, 4, 4, 4, 4, 4, 4, 4, 4, 4, 4, 4, 4, 4, 4, 4, 4, 4, 4, 4, 4, 4, 4, 4, 4, 4, 4, 4, 4, 4, 4, 4, 4, 4, 4, 4, 6, 4, 9, 8, 4, 4, 4, 4, 5, 7, 7, 7, 7, 2, 0, 0, 0, 0, 3, 4, 0, 1, 7, 4, 6, 4, 4, 4, 4, 4, 4, 4, 4, 7, 9, 0, 8, 4, 3, 3, 3, 3, 3, 3, 3, 3, 3, 3, 3, 3, 3, 3, 3, 3, 3, 5, 2, 4, 1, 7, 7, 7, 7, 3, 6, 4, 7, 0, 4, 4, 4, 4, 4, 4, 4, 4, 4, 4, 4, 4, 4, 4, 4, 4, 4, 4, 4, 4, 4, 4, 4, 4, 4, 4, 4, 4, 4, 4, 4, 4, 4, 4, 4, 4, 4, 4, 4, 4, 4, 4, 4, 4, 4, 4, 4, 8, 9, 4, 7, 7, 7, 7, 4, 1, 3, 7, 0, 2, 2, 2, 2, 2, 6, 5, 4, 2, 4, 7, 7, 7, 7, 4, 8, 4, 4, 4, 4, 4, 4, 4, 4, 4, 4, 4, 4, 4, 4, 4, 4, 4, 4, 4, 4, 4, 4, 4, 4, 4, 4, 4, 4, 9, 0, 7, 3, 4, 1, 6, 6, 6, 6, 6, 6, 6, 6, 6, 4, 5, 7, 4, 2, 0, 0, 0, 0, 0, 0, 0, 0, 0, 0, 0, 0, 0, 0, 0, 0, 0, 0, 0, 0, 0, 0, 0, 0, 0, 0, 0, 4, 8, 6, 3, 4, 7, 9, 1, 1, 1, 1, 1, 1, 1, 1, 1, 0, 4, 4, 7, 1, 1, 1, 1, 1, 4, 2, 5, 6, 4, 0, 3, 8, 7, 4, 4, 4, 4, 9, 1, 4, 4, 4, 4, 4, 4, 4, 4, 4, 4, 4, 7, 0, 4, 4, 4, 4, 4, 4, 4, 4, 4, 4, 4, 4, 4, 4, 4, 4, 4, 4, 4, 4, 4, 4, 4, 4, 4, 4, 4, 4, 4, 4, 4, 4, 4, 4, 4, 4, 4, 4, 4, 4, 4, 4, 4, 4, 4, 4, 4, 4, 4, 4, 4, 4, 4, 4, 4, 4, 6, 3, 4, 4, 4, 4, 2, 8, 5, 4, 7, 1, 4, 0, 9, 4, 7, 6, 4, 3, 4, 0, 0, 0, 0, 0, 0, 0, 0, 8, 7, 4, 2, 1, 4, 4, 4, 4, 5, 0, 4, 9, 6, 7, 7, 7, 7, 4, 3, 3, 3, 3, 3, 7, 4, 0, 4, 8, 1, 1, 1, 1, 1, 1, 1, 1, 1, 7, 4, 2, 3, 6, 4, 5, 1, 0, 4, 4, 4, 4, 9, 7, 4, 4, 4, 4, 4, 4, 4, 4, 4, 4, 4, 4, 4, 4, 4, 4, 4, 8, 4, 7, 0, 3, 3, 3, 3, 3, 3, 3, 3, 3, 6, 4, 1, 1, 1, 1, 1, 1, 1, 1, 1, 2, 4, 4, 4, 4, 7, 4, 5, 9, 3, 4, 4, 4, 4, 4, 4, 4, 4, 4, 4, 4, 4, 4, 4, 4, 4, 4, 4, 4, 4, 4, 4, 4, 4, 4, 4, 4, 4, 4, 0, 1, 8, 4, 6, 6, 6, 6, 6, 7, 4, 4, 0, 2, 7, 4, 3, 9, 4, 1, 1, 1, 1, 1, 1, 1, 1, 1, 1, 1, 1, 1, 1, 1, 1, 1, 1, 1, 1, 1, 6, 6, 6, 6, 6, 5, 4, 8, 1, 7, 7, 7, 7, 0, 0, 0, 0, 0, 0, 0, 0, 4, 7, 0, 0, 0, 0, 4, 3, 6, 0, 4, 2, 7, 4, 4, 4, 4, 4, 4, 4, 4, 4, 4, 1, 1, 1, 1, 1, 9, 4, 5, 8, 4, 0, 7, 4, 3, 6, 4, 1, 4, 7, 0, 4, 4, 4, 4, 4, 4, 4, 4, 4, 4, 2, 4, 9, 8, 4, 7, 3, 6, 5, 4, 1, 0, 4, 7, 4, 4, 3, 6, 0, 2, 4, 9, 7, 8, 8, 8, 8, 8, 1, 4, 4, 8, 5, 7, 4, 0, 4, 4, 4, 4, 3, 6, 1, 4, 7, 7, 7, 7, 4, 9, 7, 2, 0, 4, 4, 4, 4, 4, 4, 4, 4, 4, 4, 4, 4, 4, 4, 4, 4, 4, 4, 4, 4, 4, 4, 4, 4, 4, 4, 4, 4, 4, 4, 4, 4, 4, 4, 4, 4, 4, 4, 4, 4, 4, 4, 8, 4, 4, 4, 4, 4, 4, 4, 4, 5, 1, 7, 3, 3, 3, 3, 3, 6, 4, 0, 4, 4, 7, 9, 2, 4, 3, 8, 8, 8, 8, 8, 8, 8, 8, 8, 8, 8, 8, 8, 8, 1, 1, 1, 1, 1, 0, 4, 6, 7, 4, 8, 5, 4, 4, 4, 4, 4, 4, 4, 4, 7, 1, 1, 1, 1, 1, 0, 3, 4, 9, 4, 6, 2, 4, 7, 8, 4, 0, 1, 4, 4, 4, 4, 3, 7, 7, 7, 7, 7, 7, 7, 7, 7, 7, 7, 7, 7, 7, 7, 5, 4, 6, 7, 4, 0, 4, 9, 1, 2, 4, 8, 7, 4, 4, 4, 4, 4, 4, 4, 4, 4, 4, 4, 4, 4, 4, 4, 4, 4, 4, 4, 4, 4, 4, 4, 4, 4, 4, 4, 4, 4, 4, 4, 4, 4, 4, 4, 4, 3, 3, 3, 3, 3, 4, 4, 4, 4, 0, 6, 6, 6, 6, 6, 6, 6, 6, 6, 4, 7, 5, 4, 4, 4, 4, 1, 3, 6, 4, 4, 4, 4, 9, 4, 8, 7, 0, 2, 4, 4, 4, 4, 4, 4, 4, 4, 4, 4, 4, 4, 4, 4, 4, 4, 4, 4, 4, 4, 4, 4, 1, 1, 1, 1, 1, 7, 4, 3, 6, 0, 4, 5, 8, 8, 8, 8, 8, 7, 4, 4, 4, 4, 9, 4, 4, 4, 4, 4, 4, 4, 4, 4, 4, 1, 4, 4, 4, 4, 2, 4, 8, 0, 7, 3, 3, 3, 3, 3, 6, 4, 4, 4, 1, 7, 7, 7, 7, 7, 7, 7, 7, 7, 7, 7, 7, 7, 7, 7, 7, 7, 7, 7, 7, 7, 7, 7, 7, 7, 7, 7, 7, 7, 7, 7, 7, 7, 7, 7, 7, 7, 7, 7, 7, 7, 7, 7, 7, 7, 7, 7, 7, 7, 7, 7, 7, 7, 7, 7, 5, 0, 0, 0, 0, 0, 0, 0, 0, 0, 0, 0, 0, 9, 3, 0, 0, 0, 0, 0, 0, 0, 0, 7, 4, 8, 0, 6, 2, 4, 4, 7, 1, 4, 4, 0, 3, 7, 4, 6, 9, 5, 8, 4, 4, 4, 4, 4, 4, 4, 4, 4, 4, 4, 4, 4, 4, 4, 7, 1, 0, 2, 4, 3, 4, 7, 7, 7, 7, 7, 7, 7, 7, 7, 7, 7, 7, 7, 7, 7, 7, 7, 7, 7, 7, 7, 7, 7, 7, 7, 7, 7, 7, 7, 7, 4, 6, 0, 8, 8, 8, 8, 8, 4, 1, 9, 7, 4, 5, 4, 4, 4, 4, 4, 4, 4, 4, 4, 4, 3, 8, 8, 8, 8, 8, 4, 4, 4, 4, 2, 4, 4, 4, 4, 4, 4, 4, 0, 7, 4, 4, 4, 4, 4, 4, 4, 6, 4, 4, 4, 4, 4, 4, 4, 4, 4, 4, 4, 8, 1, 4, 7, 4, 0, 3, 9, 4, 4, 4, 4, 7, 4, 5, 6, 4, 1, 1, 1, 1, 1, 2, 8, 4, 4, 4, 4, 4, 4, 4, 0, 0, 0, 0, 7, 7, 7, 7, 7, 7, 7, 7, 7, 7, 7, 7, 7, 7, 7, 0, 4, 4, 4, 4, 4, 4, 4, 4, 4, 4, 4, 7, 3, 4, 1, 4, 4, 4, 4, 4, 4, 4, 4, 4, 4, 4, 4, 4, 4, 4, 4, 4, 9, 6, 4, 7, 0, 4, 5, 8, 8, 8, 8, 8, 4, 4, 4, 4, 2, 4, 4, 4, 4, 4, 4, 4, 4, 4, 4, 4, 4, 4, 4, 4, 4, 4, 4, 4, 4, 4, 4, 4, 4, 4, 4, 4, 4, 4, 4, 4, 4, 4, 4, 4, 4, 3, 7, 4, 1, 8, 4, 0, 6, 4, 7, 4, 4, 4, 4, 4, 4, 4, 4, 4, 4, 4, 4, 4, 4, 4, 4, 4, 4, 4, 4, 4, 4, 4, 4, 4, 4, 4, 4, 4, 4, 9, 4, 4, 7, 3, 3, 3, 3, 3, 0, 1, 5, 4, 2, 8, 4, 6, 7, 4, 3, 4, 0, 4, 4, 4, 4, 4, 4, 4, 4, 4, 4, 4, 4, 4, 4, 4, 4, 4, 4, 4, 4, 9, 7, 1, 4, 4, 4, 4, 4, 4, 4, 4, 4, 4, 4, 4, 4, 4, 4, 4, 4, 4, 4, 4, 4, 4, 8, 6, 6, 6, 6, 6, 7, 0, 4, 5, 3, 2, 4, 4, 4, 4, 4, 1, 7, 6, 4, 4, 4, 4, 4, 0, 0, 0, 0, 0, 0, 0, 0, 0, 0, 0, 0, 0, 9, 4, 8, 7, 7, 7, 7, 4, 3, 7, 4, 4, 4, 4, 4, 4, 4, 4, 4, 4, 4, 4, 4, 4, 4, 4, 4, 4, 4, 4, 4, 1, 5, 0, 0, 0, 0, 0, 0, 0, 0, 0, 0, 0, 0, 0, 0, 0, 0, 2, 6, 4, 0, 7, 4, 4, 4, 4, 4, 4, 4, 4, 4, 4, 4, 4, 4, 4, 4, 4, 4, 4, 4, 4, 4, 4, 4, 4, 4, 4, 4, 4, 4, 4, 4, 4, 4, 4, 4, 4, 4, 4, 8, 9, 3, 4, 7, 7, 7, 7, 7, 7, 7, 7, 7, 7, 7, 7, 7, 7, 7, 7, 7, 7, 7, 7, 7, 7, 7, 1, 0, 4, 4, 4, 4, 4, 4, 4, 4, 4, 4, 4, 4, 4, 4, 4, 4, 4, 4, 4, 4, 4, 4, 4, 4, 4, 4, 4, 4, 4, 4, 4, 4, 4, 4, 4, 4, 4, 4, 4, 4, 4, 4, 4, 4, 4, 4, 4, 4, 4, 4, 6, 4, 4, 4, 4, 4, 7, 2, 5, 4, 0, 4, 3, 8, 7, 1, 4, 9, 4, 6, 4, 7, 0, 4, 4, 4, 4, 4, 4, 4, 4, 4, 4, 4, 4, 4, 4, 4, 4, 4, 4, 4, 4, 4, 4, 4, 4, 4, 4, 4, 4, 4, 4, 4, 4, 4, 4, 4, 4, 4, 4, 4, 4, 4, 3, 3, 3, 3, 3, 3, 3, 3, 3, 3, 3, 3, 3, 3, 3, 3, 3, 3, 3, 3, 3, 3, 4, 8, 2, 7, 1, 1, 1, 1, 1, 3, 3, 3, 3, 3, 5, 4, 0, 4, 6, 7, 9, 4, 1, 3, 3, 3, 3, 3, 3, 3, 3, 3, 4, 4, 4, 4, 4, 4, 4, 4, 4, 4, 4, 4, 4, 4, 4, 4, 4, 4, 4, 4, 4, 4, 7, 7, 7, 7, 3, 0, 8, 8, 8, 8, 8, 7, 4, 4, 4, 4, 4, 6, 2, 4, 4, 4, 4, 4, 4, 4, 4, 4, 4, 4, 4, 4, 4, 4, 4, 4, 5, 8, 1, 4, 7, 0, 4, 9, 3, 4, 4, 4, 4, 4, 4, 4, 4, 4, 4, 4, 4, 4, 4, 4, 4, 4, 4, 4, 4, 4, 4, 4, 4, 4, 4, 4, 4, 4, 4, 4, 4, 4, 4, 4, 4, 4, 4, 4, 4, 4, 4, 4, 4, 4, 4, 4, 4, 4, 4, 4, 4, 4, 4, 4, 4, 4, 4, 4, 4, 4, 4, 4, 4, 4, 4, 4, 4, 4, 4, 4, 4, 4, 4, 4, 4, 4, 4, 4, 4, 4, 4, 4, 4, 4, 4, 4, 4, 4, 4, 4, 4, 4, 4, 4, 4, 4, 4, 4, 4, 4, 4, 4, 4, 4, 4, 4, 4, 4, 4, 4, 4, 4, 4, 4, 4, 4, 4, 4, 4, 4, 4, 4, 4, 4, 4, 4, 4, 4, 4, 4, 4, 4, 4, 4, 4, 4, 4, 4, 4, 4, 4, 4, 4, 4, 4, 4, 4, 4, 4, 4, 4, 4, 4, 4, 4, 4, 4, 4, 4, 4, 4, 4, 4, 4, 4, 4, 4, 4, 4, 4, 4, 4, 4, 4, 4, 4, 4, 4, 4, 4, 4, 4, 4, 4, 4, 4, 4, 4, 4, 4, 4, 4, 4, 4, 4, 4, 4, 4, 4, 4, 4, 4, 4, 4, 4, 4, 4, 4, 4, 4, 4, 4, 4, 4, 4, 4, 4, 4, 4, 4, 4, 4, 4, 4, 4, 4, 4, 4, 4, 4, 4, 4, 4, 4, 4, 4, 4, 4, 4, 4, 4, 4, 4, 4, 4, 4, 4, 4, 4, 4, 4, 4, 4, 4, 4, 4, 4, 4, 4, 4, 4, 4, 4, 4, 4, 4, 4, 4, 4, 4, 4, 4, 4, 4, 4, 4, 4, 4, 4, 4, 4, 4, 4, 4, 4, 4, 4, 4, 4, 4, 4, 4, 4, 4, 4, 4, 4, 4, 4, 4, 4, 4, 4, 4, 4, 4, 4, 4, 4, 4, 4, 4, 4, 4, 4, 4, 4, 4, 4, 4, 4, 4, 4, 4, 4, 4, 4, 4, 4, 4, 4, 4, 4, 4, 4, 4, 4, 4, 4, 4, 4, 4, 4, 4, 4, 4, 4, 4, 4, 4, 4, 4, 4, 4, 4, 4, 4, 4, 4, 4, 4, 4, 4, 4, 4, 4, 4, 4, 4, 4, 4, 4, 4, 4, 4, 6, 2, 4, 4, 4, 4, 4, 5, 8, 1, 7, 4, 0, 4, 9, 3, 4, 7, 4, 4, 4, 4, 4, 4, 6, 0, 4, 1, 1, 1, 1, 1, 7, 8, 4, 4, 4, 4, 4, 4, 4, 4, 3, 2, 4, 7, 5, 4, 1, 0, 0, 0, 0, 0, 0, 0, 0, 0, 4, 9, 4, 6, 4, 7, 4, 8, 3, 4, 4, 4, 4, 4, 4, 4, 4, 4, 4, 4, 4, 4, 4, 4, 4, 4, 4, 4, 4, 4, 4, 4, 4, 0, 4, 7, 1, 1, 1, 1, 1, 1, 1, 1, 1, 1, 1, 1, 1, 1, 4, 2, 4, 4, 6, 7, 7, 7, 7, 7, 7, 7, 7, 7, 7, 7, 7, 7, 7, 7, 5, 0, 7, 7, 7, 7, 7, 7, 7, 7, 7, 7, 7, 7, 9, 4, 4, 4, 4, 3, 4, 4, 4, 4, 4, 4, 4, 4, 4, 4, 4, 4, 4, 4, 4, 4, 4, 4, 4, 4, 4, 4, 4, 4, 4, 4, 4, 4, 4, 4, 4, 4, 4, 4, 4, 4, 4, 4, 4, 4, 4, 4, 4, 4, 4, 4, 4, 4, 4, 4, 4, 4, 4, 4, 4, 4, 4, 4, 4, 4, 4, 4, 4, 4, 4, 4, 4, 4, 4, 4, 4, 4, 4, 4, 4, 4, 4, 4, 4, 4, 4, 4, 4, 4, 4, 4, 4, 4, 4, 4, 4, 4, 4, 4, 4, 4, 4, 4, 4, 4, 4, 4, 4, 4, 4, 4, 4, 4, 4, 4, 4, 4, 4, 4, 4, 4, 4, 4, 4, 4, 4, 4, 4, 4, 4, 4, 4, 4, 4, 4, 8, 4, 4, 4, 4, 4, 4, 4, 4, 4, 4, 4, 4, 4, 4, 4, 4, 4, 4, 4, 4, 4, 4, 4, 4, 4, 1, 4, 7, 4, 0, 4, 6, 2, 4, 4, 4, 4, 4, 4, 4, 4, 4, 4, 4, 4, 4, 4, 4, 4, 4, 4, 4, 4, 4, 4, 4, 4, 4, 4, 4, 4, 4, 4, 3, 7, 4, 5, 9, 4, 8, 1, 4, 0, 4, 7, 4, 4, 4, 6, 3, 7, 4, 4, 0, 0, 0, 0, 0, 1, 4, 2, 2, 2, 2, 2, 2, 8, 7, 7, 7, 7, 7, 7, 7, 7, 7, 7, 7, 7, 7, 7, 7, 4, 4, 4, 4, 7, 9, 4, 5, 4, 0, 3, 4, 6, 7, 7, 7, 7, 4, 7, 2, 1, 4, 4, 4, 4, 4, 4, 4, 4, 4, 4, 4, 4, 4, 4, 4, 4, 4, 4, 4, 4, 4, 4, 4, 4, 4, 4, 4, 4, 4, 4, 4, 4, 4, 4, 4, 4, 4, 4, 8, 4, 0, 0, 0, 0, 0, 0, 0, 0, 0, 0, 0, 0, 0, 7, 4, 4, 4, 4, 4, 4, 4, 4, 3, 4, 4, 4, 4, 4, 4, 4, 4, 4, 4, 4, 4, 4, 4, 4, 4, 4, 4, 4, 4, 4, 4, 4, 4, 4, 4, 4, 4, 4, 4, 4, 4, 4, 4, 4, 4, 4, 4, 4, 4, 4, 4, 4, 4, 4, 4, 4, 4, 4, 4, 4, 4, 4, 4, 4, 4, 4, 4, 4, 4, 4, 4, 4, 4, 4, 4, 4, 4, 4, 4, 4, 4, 4, 4, 4, 4, 4, 4, 4, 4, 4, 4, 4, 4, 4, 4, 4, 4, 4, 4, 4, 4, 4, 4, 4, 9, 4, 6, 5, 4, 1, 7, 4, 0, 4, 2, 4, 8, 4, 7, 4, 3, 4, 0, 4, 1, 6, 6, 6, 6, 6, 7, 4, 4, 4, 4, 4, 4, 4, 4, 9, 4, 4, 6, 7, 5, 4, 8, 0, 3]\n"
          ]
        }
      ]
    },
    {
      "cell_type": "code",
      "source": [
        "print(sum_of_rewards)"
      ],
      "metadata": {
        "colab": {
          "base_uri": "https://localhost:8080/"
        },
        "id": "c8yz484ZlN0r",
        "outputId": "c4538956-890f-4e60-faa6-971c4103d48c"
      },
      "execution_count": 17,
      "outputs": [
        {
          "output_type": "stream",
          "name": "stdout",
          "text": [
            "[62, 33, 4, 31, 691, 1, 23, 128, 18, 5]\n"
          ]
        }
      ]
    },
    {
      "cell_type": "code",
      "source": [
        "print(numbers_of_selections)"
      ],
      "metadata": {
        "colab": {
          "base_uri": "https://localhost:8080/"
        },
        "id": "u3IrsBJIlUKp",
        "outputId": "27392d6f-4149-422b-979f-aae4556db4ee"
      },
      "execution_count": 18,
      "outputs": [
        {
          "output_type": "stream",
          "name": "stdout",
          "text": [
            "[395, 273, 135, 265, 2587, 119, 229, 650, 206, 141]\n"
          ]
        }
      ]
    },
    {
      "cell_type": "code",
      "source": [
        "print(total_reward)"
      ],
      "metadata": {
        "colab": {
          "base_uri": "https://localhost:8080/"
        },
        "id": "3_wYIuLhlfSV",
        "outputId": "57eb657f-3a9a-4af2-985f-7552f2d103dd"
      },
      "execution_count": 19,
      "outputs": [
        {
          "output_type": "stream",
          "name": "stdout",
          "text": [
            "996\n"
          ]
        }
      ]
    },
    {
      "cell_type": "markdown",
      "metadata": {
        "id": "AXftWcjDwsYj"
      },
      "source": [
        "## Visualising the results"
      ]
    },
    {
      "cell_type": "code",
      "source": [
        "#plot an histogram to visualize which of the ad was choosen the most\n",
        "plt.hist(add_selected)\n",
        "plt.title(\"most promising ad\")\n",
        "plt.xlabel(\"ads\")\n",
        "plt.ylabel(\"no of times ad is selected\")\n",
        "plt.show()"
      ],
      "metadata": {
        "colab": {
          "base_uri": "https://localhost:8080/",
          "height": 472
        },
        "id": "CQGJiMnVlt-2",
        "outputId": "3fa689fb-8e37-4ab8-f91a-c14c526d7486"
      },
      "execution_count": 22,
      "outputs": [
        {
          "output_type": "display_data",
          "data": {
            "text/plain": [
              "<Figure size 640x480 with 1 Axes>"
            ],
            "image/png": "[encoded data removed]"
          },
          "metadata": {}
        }
      ]
    }
  ]
}